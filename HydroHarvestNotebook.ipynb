{
  "cells": [
    {
      "cell_type": "markdown",
      "metadata": {
        "id": "X_ZVeqUsWLKN"
      },
      "source": [
        "###Streamlit Background"
      ]
    },
    {
      "cell_type": "markdown",
      "metadata": {
        "id": "p6N1PDNrkPuW"
      },
      "source": [
        "Streamlit is a python package that allows you to create interactive web applications without any front-end coding knowledge. Usually, to create a website, you need some experience with a language like HTML, CSS, or Javascript for the front-end. Streamlit allows you to make a website with only python. Streamlit's website can also connect to your github account to host your websites for free.\n",
        "\n",
        "To set up your streamlit account by connecting it to your github, visit the streamlit website below:\n",
        "- https://streamlit.io/\n",
        "\n",
        "The following notebook can be used to test the streamlit app.\n"
      ]
    },
    {
      "cell_type": "markdown",
      "metadata": {
        "id": "KCVSqhL7V3hu"
      },
      "source": [
        "###Streamlit Conversion"
      ]
    },
    {
      "cell_type": "markdown",
      "metadata": {
        "id": "2fPk4K69WA4I"
      },
      "source": [
        "Install the packages the code uses to the google colab environment."
      ]
    },
    {
      "cell_type": "code",
      "execution_count": null,
      "metadata": {
        "id": "5873gY6WV7AQ"
      },
      "outputs": [],
      "source": [
        "!pip install streamlit\n",
        "!pip install pyngrok\n",
        "!pip install folium\n",
        "!pip install streamlit_folium\n",
        "!pip install geopandas\n",
        "!pip install math\n",
        "!pip install numpy\n",
        "!pip install pandas\n",
        "!pip install pyflo\n",
        "!pip install osmnx"
      ]
    },
    {
      "cell_type": "markdown",
      "metadata": {
        "id": "6c870TTpWb-Z"
      },
      "source": [
        "Create a python file of the code for the interactive page."
      ]
    },
    {
      "cell_type": "code",
      "execution_count": null,
      "metadata": {
        "id": "UmJJh7D7qaPE"
      },
      "outputs": [],
      "source": [
        "%%writefile HydroHarvest.py\n",
        "\n",
        "# Set up streamlit in file\n",
        "import streamlit as st\n",
        "\n",
        "#Set up folium in streamlit\n",
        "import folium\n",
        "from folium.plugins import Draw\n",
        "from folium.plugins import Geocoder\n",
        "from streamlit_folium import st_folium\n",
        "\n",
        "#Set up other packages\n",
        "import math\n",
        "import geopandas as gpd\n",
        "import pyflo\n",
        "import pandas as pd\n",
        "import numpy as np\n",
        "from matplotlib import pyplot\n",
        "from pyflo import system\n",
        "from pyflo.rational import hydrology\n",
        "from shapely.geometry import Point, LineString\n",
        "import osmnx as ox\n",
        "\n",
        "#Define function to calculate the longest line path within a polygon\n",
        "def find_longest_line_path(polygon_gdf):\n",
        "    \"\"\"\n",
        "    Finds the longest line path inside a polygon.\n",
        "\n",
        "    Args:\n",
        "        polygon_gdf (GeoDataFrame): A GeoDataFrame with a polygon geometry column.\n",
        "\n",
        "    Returns:\n",
        "        float: The length of the longest line path inside the polygon.\n",
        "    \"\"\"\n",
        "\n",
        "    #Calculate the distance between two points\n",
        "    def distance(point1, point2):\n",
        "        return math.sqrt((point1[0] - point2[0]) ** 2 + (point1[1] - point2[1]) ** 2)\n",
        "\n",
        "    #Get the polygon geometry\n",
        "    polygon = polygon_gdf.geometry[0]\n",
        "\n",
        "    #Initialize the longest line path to zero\n",
        "    longest_line_path = 0\n",
        "\n",
        "    #Loop through each pair of points in the polygon\n",
        "    for i in range(len(polygon.exterior.coords)):\n",
        "        for j in range(i+1, len(polygon.exterior.coords)):\n",
        "            # Calculate the length of the line between the two points\n",
        "            line_length = distance(polygon.exterior.coords[i], polygon.exterior.coords[j])\n",
        "\n",
        "            #Check if the line is inside the polygon\n",
        "            is_inside_polygon = True\n",
        "            for k in range(len(polygon.exterior.coords)):\n",
        "                if k != i and k != j:\n",
        "                    if (polygon.exterior.coords[k][0] - polygon.exterior.coords[i][0]) * (polygon.exterior.coords[j][1] - polygon.exterior.coords[i][1]) \\\n",
        "                    > (polygon.exterior.coords[k][1] - polygon.exterior.coords[i][1]) * (polygon.exterior.coords[j][0] - polygon.exterior.coords[i][0]):\n",
        "                        is_inside_polygon = False\n",
        "                        break\n",
        "\n",
        "            #If the line is inside the polygon and longer than the current longest line path, update the longest line path\n",
        "            if is_inside_polygon and line_length > longest_line_path:\n",
        "                longest_line_path = line_length\n",
        "\n",
        "    return longest_line_path\n",
        "\n",
        "#Start creating app contents\n",
        "\n",
        "#Create a title\n",
        "st.title('HYDROHARVEST')\n",
        "\n",
        "with st.form(key='my_form'):\n",
        "    #Create a box for user to select flow area\n",
        "    volume = st.selectbox('Select if you are interested in collecting rainwater from roofs only or from your whole site:',('Roofs only','Entire site'))\n",
        "\n",
        "    #Create a box for user to select site slope\n",
        "    slope_input = st.selectbox('Select the slope of your site:',(\"Nearly Level\",\"Gently Sloping\",\"Strongly Sloping\",\"Moderately Steep\",\"Steep\",\"Very Steep\"))\n",
        "\n",
        "    #Create caption for map\n",
        "    st.caption('Draw your polygon on the map below:')\n",
        "\n",
        "    #Create folium map with polygon drawing and address searching added\n",
        "    Map = folium.Map(location=[34, -118], tiles = 'cartodbpositron', zoom_start=10, control_scale=True)\n",
        "    Draw(export=True).add_to(Map)\n",
        "    Geocoder().add_to(Map)\n",
        "\n",
        "    #Display map using integrated streamlit and folium command\n",
        "    st_folium(Map, width = 675)\n",
        "\n",
        "    #Create a location to upload GeoJSON file if polygon\n",
        "    uploaded_file = st.file_uploader('Export your polygon then upload your geojson file below:', type=[\"geojson\"])\n",
        "\n",
        "    #Create a buttom to start the program\n",
        "    submit_button = st.form_submit_button(label='Calculate')\n",
        "\n",
        "#If the user uploads a file perform the following\n",
        "if submit_button == 1 and uploaded_file is not None:\n",
        "    #Read the GeoJSON file and convert it into a GeoDataFrame\n",
        "    gdf = gpd.read_file(uploaded_file)\n",
        "\n",
        "    #Update to an appropriate PCS for LA County\n",
        "    gdf_pcs = gdf.to_crs(epsg=3857)\n",
        "    \n",
        "    #Calculate the area of the polygon in m^2 \n",
        "    area_m = gdf_pcs['geometry'].area[0]\n",
        "\n",
        "    #Convert the area to acres\n",
        "    area_acres = area_m*0.00024711\n",
        "\n",
        "    #Calculate the longest line path using defined function and converting from meters to ft\n",
        "    L = find_longest_line_path(gdf_pcs)*3.2808399\n",
        "    \n",
        "    #Determine the roof area in the site\n",
        "    #Set boundary to look for buildings within as the orginal gdf in a GCS\n",
        "    boundary_geojson = gdf\n",
        "    #Get building geometries from open street maps within the polygon\n",
        "    building_geoms = ox.geometries.geometries_from_polygon(boundary_geojson.geometry.values[0], tags={'building': True})\n",
        "    #Reproject building geometry to the PCS\n",
        "    buidling_geoms = building_geoms.to_crs(epsg=3857)\n",
        "    #Find the area of the building geometry\n",
        "    building_geoms['area (m^2)'] = buidling_geoms['geometry'].area\n",
        "    #Find total building area for all buildings in polygon\n",
        "    total_building_area = building_geoms['area (m^2)'].sum()\n",
        "    #Find percentage of site area that is roof\n",
        "    roofs = total_building_area/area_m \n",
        "\n",
        "    #Determine the flow path slope\n",
        "    #Create a lookup table for slope of site based on the input options the user is given\n",
        "    lookup_table = {\n",
        "    \"Nearly Level\": 0.015,\n",
        "    \"Gently Sloping\": 0.045,\n",
        "    \"Strongly Sloping\": 0.1,\n",
        "    \"Moderately Steep\": 0.20,\n",
        "    \"Steep\": \"0.40\",\n",
        "    \"Very Steep\": 0.60}\n",
        "    #Retrieve a value from the lookup table for the slope using the user input\n",
        "    value = lookup_table[slope_input]\n",
        "    S = value\n",
        "\n",
        "    #Set the total impervious area equal to the roof area as a place holder for finding the total impervious area percentage\n",
        "    imp = roofs\n",
        "\n",
        "    #Determine the 85th percentile 24 hour rainfall intensity in inches for LA County\n",
        "    #Add a centroid column in PCS gdf for the selected polygon\n",
        "    gdf_pcs['centroid'] = gdf_pcs['geometry'].centroid\n",
        "    #Retrieve the centroid data\n",
        "    centroid = gdf_pcs['centroid'][0]\n",
        "    #Load the rain contour data\n",
        "    rain_contours = gpd.read_file(\"https://raw.githubusercontent.com/kristinhernandez/Geospatial-Data-Analytics/Week-1/85th_and_95th_Percentile_Rainfall.geojson\")\n",
        "    #Create a Shapely Point from the centroid coordinates\n",
        "    point = Point(centroid.x, centroid.y)  \n",
        "    #Create a new gdf of the centroid point alone\n",
        "    gdf_p = gpd.GeoDataFrame(index=[0], crs='epsg:3857', geometry=[point])\n",
        "    #Perform the spatial join and merge with the rain_contours GeoDataFrame\n",
        "    df_n = gpd.sjoin_nearest(gdf_p, rain_contours).merge(rain_contours, left_on=\"index_right\", right_index=True)\n",
        "    #Extract the point and line string geometries from the joined dataframe\n",
        "    point_new = df_n.iloc[0]['geometry_x']\n",
        "    line = df_n.iloc[0]['geometry_y']\n",
        "    #Extract the value of the 'CONTOUR_x' column\n",
        "    contour = df_n.loc[0, 'CONTOUR_x']\n",
        "    #Set the 85th percentile equal to the contour\n",
        "    pctl_85 = contour\n",
        "    #Determine the intensity in in/hr by dividing by 24 hours\n",
        "    i = pctl_85/24\n",
        "\n",
        "    #Set the assumed undeveloped runoff coefficient\n",
        "    c_u = 0.1\n",
        "\n",
        "    #Calculate the developed runoff coefficient\n",
        "    c_d = (0.9 * imp) + (1.0 - imp) * c_u\n",
        "\n",
        "    #Set the assumed the roof runoff coefficient\n",
        "    c_roof = 0.9\n",
        "\n",
        "    #Calculate time of concentration and peak intensity\n",
        "    tc_guess = 15\n",
        "    while True:\n",
        "      i_peak = i * np.power((1440/tc_guess),0.47)\n",
        "      tc_new = (0.31 * np.power(L,0.483))/((np.power((c_d*i_peak),0.519))*np.power(S,0.135))\n",
        "      if tc_guess == tc_new:\n",
        "        break\n",
        "      tc_guess = tc_new\n",
        "\n",
        "    #Calculate peak flow rate\n",
        "    Q_peak = c_d * i_peak * area_acres\n",
        "    \n",
        "    #Calculate design runoff in gallons based on the selection of whole site or roofs only\n",
        "    if volume == \"Entire site\":\n",
        "      Q_cfs = c_d * i * area_acres\n",
        "      Q_cfh = Q_cfs * 60 * 60\n",
        "      V_design = Q_cfh * 24 * 7.48\n",
        "    elif volume == \"Roofs only\":\n",
        "      Q_cfs = c_roof * i * (area_acres * roofs)\n",
        "      Q_cfh = Q_cfs * 60 * 60\n",
        "      V_design = Q_cfh * 24 * 7.48\n",
        "    \n",
        "    #Create and display outputs dataframe\n",
        "    data = {'Output': {'Modeled (85th percentile storm) Rainfall Depth (in)': \"%.2f\" % pctl_85,\n",
        "                  'Peak Rainfall Intensity (in/hr)': \"%.4f\" % i_peak,\n",
        "                  'Undeveloped Runoff Coefficient (Cu)': \"%.1f\" % c_u,\n",
        "                  'Developed Runoff Coefficient (Cd)': \"%.4f\" % c_d,\n",
        "                  'Time of Concentration (min)': \"%.1f\" % tc_new,\n",
        "                  'Clear Peak Flow Rate (cfs)': \"%.4f\" % Q_peak,\n",
        "                  'Burned Peak Flow Rate (cfs)': \"%.4f\" % Q_peak,\n",
        "                  '24-Hr Clear Runoff Volume (ac-ft)': \"%.4f\" % (V_design/325900),\n",
        "                  '24-Hr Clear Runoff Volume (cu-ft)' : \"%.2f\" % (V_design/7.48)}}\n",
        "    df_outputs = pd.DataFrame(data={'Output': list(data['Output'].values())}, index=list(data['Output'].keys()))\n",
        "    st.table(df_outputs)\n",
        "\n",
        "    #Make the hydrograph using design storm\n",
        "    design_storm = np.array([\n",
        "      (0.1, 0.0),\n",
        "      (5.0, 0.5),\n",
        "      (10, 1.5),\n",
        "      (15, 2.0),\n",
        "      (20, 2.25),\n",
        "      (25, 2.5),\n",
        "      (30, 2.5),\n",
        "      (35, 2.5),\n",
        "      (40, 2.5),\n",
        "      (45, 2.5),\n",
        "      (50, 2.5),\n",
        "      (55, 2.5),\n",
        "      (60, 2.5)])\n",
        "    basin = hydrology.Basin(tc=tc_new, area=area_acres, c=c_d)\n",
        "    rainfall_depths = design_storm * [24, tc_new]  # Scale array to 24 hour and peak duration\n",
        "    flood_hydrograph = basin.flood_hydrograph(rainfall_depths, interval=1)\n",
        "    x = flood_hydrograph[:, 0]\n",
        "    y = flood_hydrograph[:, 1]\n",
        "    \n",
        "    #Plot the hydrograph\n",
        "    pyplot.plot(x, y, 'c')\n",
        "    pyplot.plot(x, y, 'lightsteelblue')\n",
        "    pyplot.title(r'Site Hydrograph')\n",
        "    pyplot.xlabel(r'Time ($minutes$)')\n",
        "    pyplot.ylabel(r'Discharge ($cfs$)')\n",
        "    st.set_option('deprecation.showPyplotGlobalUse', False)\n",
        "    st.pyplot(pyplot.show())\n",
        "\n",
        "    #Calculate new design volume due to climate change factor\n",
        "    #Load climate data\n",
        "    historical_data = pd.read_csv(\"https://raw.githubusercontent.com/kristinhernandez/Geospatial-Data-Analytics/Week-1/historical.csv\")\n",
        "    future_data = pd.read_csv(\"https://raw.githubusercontent.com/kristinhernandez/Geospatial-Data-Analytics/Week-1/future.csv\")\n",
        "    #Rename climate data columns\n",
        "    future_data = future_data.rename(columns={'precipitation_sum_CMCC_CM2_VHR4 (mm)': 'future rainfall'})\n",
        "    historical_data = historical_data.rename(columns={'precipitation_sum_CMCC_CM2_VHR4 (mm)': 'historical rainfall'})\n",
        "    #Add year columns to climate data dataframes\n",
        "    historical_data['YEAR'] = historical_data['time'].astype(str).str.slice(start=0,stop=4)\n",
        "    future_data['YEAR'] = future_data['time'].astype(str).str.slice(start=0,stop=4)\n",
        "    #Group climate dataframes by year\n",
        "    historical_grouped = historical_data.groupby('YEAR').sum().reset_index()\n",
        "    future_grouped = future_data.groupby('YEAR').sum().reset_index()\n",
        "    #Determine average percent difference\n",
        "    avg_historical = historical_grouped['historical rainfall'].mean()\n",
        "    avg_future = future_grouped['future rainfall'].mean()\n",
        "    percent_difference = (avg_future - avg_historical)/avg_future\n",
        "    \n",
        "    #Set climate change factor equal to the average percent difference\n",
        "    cc_factor = percent_difference \n",
        "    cc_percent = cc_factor * 100\n",
        "\n",
        "    #Calculate the design volume adjusted for cliamte change\n",
        "    V_new = (1 + cc_factor) * V_design\n",
        "    \n",
        "    #Display a sentence summarizing the current and future design volumes for the site\n",
        "    st.write(\"The current design volume is\",\"%0.1f\" % V_design,\"and with a climate change increase factor of\", \"%0.1f\" % cc_percent, \"percent, the new design volume is\", \"%0.1f\" % V_new, \"gallons.\")\n",
        "else:\n",
        "    st.write(\"Please upload a file and select calculate\")"
      ]
    },
    {
      "cell_type": "markdown",
      "metadata": {
        "id": "0Ig3jHLriq9a"
      },
      "source": [
        "For help on basic streamlit interactive tools, use the cheatsheet linked below.\n",
        "- https://daniellewisdl-streamlit-cheat-sheet-app-ytm9sg.streamlit.app/\n",
        "\n",
        "To learn how to create more advanced streamlit apps, visit the streamlit gallery linked below. \n",
        "- https://streamlit.io/gallery?category=featured"
      ]
    },
    {
      "cell_type": "markdown",
      "metadata": {
        "id": "GZppx26EXMPd"
      },
      "source": [
        "Use the following code to set up a local tunnel to run the interactive page."
      ]
    },
    {
      "cell_type": "code",
      "execution_count": null,
      "metadata": {
        "colab": {
          "base_uri": "https://localhost:8080/"
        },
        "id": "l7OzpyRmXLcf",
        "outputId": "b8ec22dd-bad2-483d-c0d9-4ab9aefa5f07"
      },
      "outputs": [
        {
          "output_type": "stream",
          "name": "stdout",
          "text": [
            "\u001b[K\u001b[?25h\u001b[37;40mnpm\u001b[0m \u001b[0m\u001b[30;43mWARN\u001b[0m \u001b[0m\u001b[35msaveError\u001b[0m ENOENT: no such file or directory, open '/content/package.json'\n",
            "\u001b[0m\u001b[37;40mnpm\u001b[0m \u001b[0m\u001b[30;43mWARN\u001b[0m \u001b[0m\u001b[35menoent\u001b[0m ENOENT: no such file or directory, open '/content/package.json'\n",
            "\u001b[0m\u001b[37;40mnpm\u001b[0m \u001b[0m\u001b[30;43mWARN\u001b[0m\u001b[35m\u001b[0m content No description\n",
            "\u001b[0m\u001b[37;40mnpm\u001b[0m \u001b[0m\u001b[30;43mWARN\u001b[0m\u001b[35m\u001b[0m content No repository field.\n",
            "\u001b[0m\u001b[37;40mnpm\u001b[0m \u001b[0m\u001b[30;43mWARN\u001b[0m\u001b[35m\u001b[0m content No README data\n",
            "\u001b[0m\u001b[37;40mnpm\u001b[0m \u001b[0m\u001b[30;43mWARN\u001b[0m\u001b[35m\u001b[0m content No license field.\n",
            "\u001b[0m\n",
            "\u001b[K\u001b[?25h+ localtunnel@2.0.2\n",
            "updated 1 package and audited 36 packages in 0.47s\n",
            "\n",
            "3 packages are looking for funding\n",
            "  run `npm fund` for details\n",
            "\n",
            "found \u001b[92m0\u001b[0m vulnerabilities\n",
            "\n",
            "\u001b[K\u001b[?25h"
          ]
        }
      ],
      "source": [
        "!npm install localtunnel"
      ]
    },
    {
      "cell_type": "markdown",
      "metadata": {
        "id": "J5y8cW8iYx_2"
      },
      "source": [
        "Use the following code to add the auth token from ngrok to the tunnel. \n",
        "\n",
        "- You receive an authtoken when you make an ngrok account and they provide this command for you on the getting started page of your account. The link below takes you to the sign up page for ngrok.\n",
        "- https://ngrok.com/"
      ]
    },
    {
      "cell_type": "code",
      "execution_count": null,
      "metadata": {
        "id": "i2StwmXnZJ-v"
      },
      "outputs": [],
      "source": [
        "#!ngrok authtoken"
      ]
    },
    {
      "cell_type": "markdown",
      "metadata": {
        "id": "-7wE7NR1ZWdB"
      },
      "source": [
        "Run the python file with the following line of code."
      ]
    },
    {
      "cell_type": "code",
      "execution_count": null,
      "metadata": {
        "id": "l95XuhigZnVR"
      },
      "outputs": [],
      "source": [
        "!streamlit run /content/RainwaterCollection.py &>/content/logs.txt &"
      ]
    },
    {
      "cell_type": "markdown",
      "metadata": {
        "id": "7cqN-I4GZ2k6"
      },
      "source": [
        "Use the following line of code to get a unique url to the file. \n",
        "- 8501 is the port that streamlit uses.\n",
        "- The url is only usable while this cell is still running. \n",
        "- To create a permanent url you will need to develop this in a local environment not on colab."
      ]
    },
    {
      "cell_type": "code",
      "execution_count": null,
      "metadata": {
        "id": "ttKLJZPgZ23I"
      },
      "outputs": [],
      "source": [
        "!npx localtunnel --port 8501"
      ]
    },
    {
      "cell_type": "markdown",
      "metadata": {
        "id": "c-tGpz1qbkRe"
      },
      "source": [
        "For more details on creating and running streamlit apps from googlecolab use the website linked below.\n",
        "- https://medium.com/@jcharistech/how-to-run-streamlit-apps-from-colab-29b969a1bdfc#:~:text=To%20create%20our%20tunnel%20we%20will%20be%20using,https%3A%2F%2Fb546sh556d.ngrok.io%29%20that%20your%20app%20will%20be%20running%20on.\n",
        "\n",
        "For more details on creating and running streamlit apps hosted on your github use the streamlit tutorial linked below.\n",
        "- https://30days.streamlit.app/?challenge=Day1"
      ]
    }
  ],
  "metadata": {
    "colab": {
      "provenance": []
    },
    "kernelspec": {
      "display_name": "Python 3",
      "name": "python3"
    },
    "language_info": {
      "name": "python"
    }
  },
  "nbformat": 4,
  "nbformat_minor": 0
}